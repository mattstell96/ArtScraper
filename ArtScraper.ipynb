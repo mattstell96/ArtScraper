{
 "cells": [
  {
   "cell_type": "markdown",
   "id": "f05a0115",
   "metadata": {},
   "source": [
    "<h1>ML in Art - Team 7 </h1>"
   ]
  },
  {
   "cell_type": "markdown",
   "id": "a743ed65",
   "metadata": {},
   "source": [
    "*Advance Programming For Business Analytics*"
   ]
  },
  {
   "cell_type": "markdown",
   "id": "6ccea98a",
   "metadata": {},
   "source": [
    "## File #1.2: Scraping Artsy"
   ]
  },
  {
   "cell_type": "markdown",
   "id": "43ccbeda",
   "metadata": {},
   "source": [
    "### File Preview\n",
    "1. Open and Login in Artsy\n",
    "2. Scrape the website: first 5 pages for 244 artists"
   ]
  },
  {
   "cell_type": "markdown",
   "id": "2940265d",
   "metadata": {},
   "source": [
    "_____"
   ]
  },
  {
   "cell_type": "markdown",
   "id": "9412c61c",
   "metadata": {},
   "source": [
    "<h2>I. Pre-Work</h2>"
   ]
  },
  {
   "cell_type": "markdown",
   "id": "3592a962",
   "metadata": {},
   "source": [
    "In this preliminary section we set the work space for our Selenium scraper. In particular, after loading the necessary libraries, we start *chromedriver* and use Selenium to make the login in Artsy.<br>**Note:** The login is crucial as Artsy only displays the artwork saleprice to registered users!"
   ]
  },
  {
   "cell_type": "markdown",
   "id": "29767ee7",
   "metadata": {},
   "source": [
    "<h3>1. Load Libraries</h3>"
   ]
  },
  {
   "cell_type": "code",
   "execution_count": 14,
   "id": "5808a9d1",
   "metadata": {},
   "outputs": [],
   "source": [
    "#Basic\n",
    "import pandas as pd\n",
    "import numpy as np\n",
    "import matplotlib.pyplot as plt\n",
    "import seaborn as sns\n",
    "\n",
    "#Parsing\n",
    "import requests\n",
    "from bs4 import BeautifulSoup\n",
    "\n",
    "#Crawling\n",
    "import lxml\n",
    "from selenium.webdriver import Chrome\n",
    "from selenium.webdriver.support.ui import WebDriverWait\n",
    "from selenium.webdriver.common.by import By\n",
    "from selenium.webdriver.support import expected_conditions as EC\n",
    "from time import sleep"
   ]
  },
  {
   "cell_type": "markdown",
   "id": "0fbc6aed",
   "metadata": {},
   "source": [
    "<h3>2. Activate ChromeDriver</h3>"
   ]
  },
  {
   "cell_type": "code",
   "execution_count": 15,
   "id": "f17da424",
   "metadata": {},
   "outputs": [
    {
     "name": "stderr",
     "output_type": "stream",
     "text": [
      "/var/folders/wb/bvr0h0rn491g8xxj2w3b9f140000gn/T/ipykernel_16278/3325627301.py:2: DeprecationWarning: executable_path has been deprecated, please pass in a Service object\n",
      "  driver = Chrome('/Users/matteo-stelluti/Desktop/ADV_PYTHON/ART_PROJECT/PHASE 4/Data/chromedriver')\n"
     ]
    }
   ],
   "source": [
    "Scrapy\n",
    "Selenium\n",
    "Beautiful Soup\n",
    "\n",
    "… why Selenium\n",
    "# create an instance of web driver\n",
    "driver = Chrome('/Users/matteo-stelluti/Desktop/ADV_PYTHON/ART_PROJECT/PHASE 4/Data/chromedriver')\n",
    "\n",
    "main_page_url = 'https://www.artsy.net/'\n",
    "\n",
    "#Open Artsy\n",
    "driver.get(main_page_url)\n",
    "sleep(5)"
   ]
  },
  {
   "cell_type": "markdown",
   "id": "580c9f48",
   "metadata": {},
   "source": [
    "<h3>3. Login</h3>"
   ]
  },
  {
   "cell_type": "markdown",
   "id": "9bd1c3f2",
   "metadata": {},
   "source": [
    "Login in Artsy.net is necessary to view the most important piece of information, that is the sale price at auction."
   ]
  },
  {
   "cell_type": "code",
   "execution_count": 16,
   "id": "4d8d43fd",
   "metadata": {},
   "outputs": [
    {
     "name": "stderr",
     "output_type": "stream",
     "text": [
      "/var/folders/wb/bvr0h0rn491g8xxj2w3b9f140000gn/T/ipykernel_16278/653311356.py:2: DeprecationWarning: find_element_by_xpath is deprecated. Please use find_element(by=By.XPATH, value=xpath) instead\n",
      "  driver.find_element_by_xpath('//*[@class =\"Button__Container-sc-1ckr5i3-0 dDcOsO\"]').click()\n",
      "/var/folders/wb/bvr0h0rn491g8xxj2w3b9f140000gn/T/ipykernel_16278/653311356.py:4: DeprecationWarning: find_element_by_xpath is deprecated. Please use find_element(by=By.XPATH, value=xpath) instead\n",
      "  user = driver.find_element_by_xpath('//*[@name =\"email\"]')\n",
      "/var/folders/wb/bvr0h0rn491g8xxj2w3b9f140000gn/T/ipykernel_16278/653311356.py:5: DeprecationWarning: find_element_by_xpath is deprecated. Please use find_element(by=By.XPATH, value=xpath) instead\n",
      "  passw = driver.find_element_by_xpath('//*[@name =\"password\"]')\n",
      "/var/folders/wb/bvr0h0rn491g8xxj2w3b9f140000gn/T/ipykernel_16278/653311356.py:6: DeprecationWarning: find_element_by_xpath is deprecated. Please use find_element(by=By.XPATH, value=xpath) instead\n",
      "  login = driver.find_element_by_xpath('//*[@class =\"Button__Container-sc-1ckr5i3-0 fWQVvr\"]')\n"
     ]
    }
   ],
   "source": [
    "#Login Button CLICK --> Shows pop up window\n",
    "driver.find_element_by_xpath('//*[@class =\"Button__Container-sc-1ckr5i3-0 dDcOsO\"]').click()\n",
    "\n",
    "user = driver.find_element_by_xpath('//*[@name =\"email\"]')\n",
    "passw = driver.find_element_by_xpath('//*[@name =\"password\"]')\n",
    "login = driver.find_element_by_xpath('//*[@class =\"Button__Container-sc-1ckr5i3-0 fWQVvr\"]')\n",
    "\n",
    "#HERE WE LOG-IN USING THE WEB ELEMENTS THAT WE SAVED\n",
    "user.send_keys(\"YOUR ARTSY.NET EMAIL HERE\");\n",
    "passw.send_keys(\"YOUR PASSWORD\");\n",
    "login.click()\n",
    "sleep(5)"
   ]
  },
  {
   "cell_type": "markdown",
   "id": "cd68564e",
   "metadata": {},
   "source": [
    "<h2>II. Selenium Scraper</h2>"
   ]
  },
  {
   "cell_type": "markdown",
   "id": "27c9e635",
   "metadata": {},
   "source": [
    "<h3>1. Upload the Artists' Urls List</h3>"
   ]
  },
  {
   "cell_type": "markdown",
   "id": "aeb2629e",
   "metadata": {},
   "source": [
    "In this first step, we upload the list of urls that has been created on another notebook. The list will allow us to iterate over the artists' urls and search for each one of them on Artsy.<br> **Notes:** <ol><li>The filter on the *'Paintings'* category is implicit in the urls (*'categories = Painting'*).</li><li>We have firstly filtered the artists to keep only those with at least 5 Artsy pages.</li><li>We have re-filtered the artists to keep those with the *'Market Signals'* box on Artsy.</li></ol>We reduced the list of artists from 1129 to 244."
   ]
  },
  {
   "cell_type": "code",
   "execution_count": 17,
   "id": "bc9d9430",
   "metadata": {},
   "outputs": [],
   "source": [
    "urls_filtered = pd.read_csv('/Users/matteo-stelluti/Desktop/ADV_PYTHON/ART_PROJECT/PHASE 4/Data/filtered_artists.csv')\n",
    "urls_filtered = urls_filtered.URL.tolist()"
   ]
  },
  {
   "cell_type": "markdown",
   "id": "787ff2ae",
   "metadata": {},
   "source": [
    "<h3>2. Scraping & Crawling</h3>"
   ]
  },
  {
   "cell_type": "code",
   "execution_count": 19,
   "id": "c1110299",
   "metadata": {},
   "outputs": [],
   "source": [
    "#Let's define the list that will contain the artwork info\n",
    "\n",
    "artwork_df = []"
   ]
  },
  {
   "cell_type": "code",
   "execution_count": 33,
   "id": "e2bbef46",
   "metadata": {},
   "outputs": [],
   "source": [
    "for url in urls_filtered:\n",
    "    \n",
    "    driver.get(url)\n",
    "    \n",
    "    #Step 1. Check if the artist has the market signal section\n",
    "    \n",
    "    try: \n",
    "        signal = driver.find_element(By.XPATH,value='//*[@id=\"main\"]/div/div/div/div[4]/div[2]/div[1]')\n",
    "        signal.text == 'Market Signals More info'\n",
    "        \n",
    "        #A] Artists with the signal section\n",
    "        \n",
    "        #i. Open the artwork boxes for the additional info\n",
    "        \n",
    "        try:\n",
    "            driver.find_element(by=By.XPATH, value='//*[@id=\"main\"]/div/div/div/div[4]/div[7]/div[2]/div[3]/div[2]/div[2]/div/div[1]/div/div[4]/div/div[2]').click()\n",
    "            sleep(1)\n",
    "        except:\n",
    "            pass\n",
    "        try:\n",
    "            driver.find_element(by=By.XPATH, value='//*[@id=\"main\"]/div/div/div/div[4]/div[7]/div[2]/div[3]/div[2]/div[5]/div/div[1]/div/div[4]/div/div[2]').click()\n",
    "            sleep(1)\n",
    "        except:\n",
    "            pass\n",
    "        try:\n",
    "            driver.find_element(by=By.XPATH, value='//*[@id=\"main\"]/div/div/div/div[4]/div[7]/div[2]/div[3]/div[2]/div[8]/div/div[1]/div/div[4]/div/div[2]').click()\n",
    "            sleep(1)        \n",
    "        except:\n",
    "            pass\n",
    "        try:\n",
    "            driver.find_element(by=By.XPATH, value='//*[@id=\"main\"]/div/div/div/div[4]/div[7]/div[2]/div[3]/div[2]/div[11]/div/div[1]/div/div[4]/div/div[2]').click()\n",
    "            sleep(1)\n",
    "        except:\n",
    "            pass\n",
    "        try:\n",
    "            driver.find_element(by=By.XPATH, value='//*[@id=\"main\"]/div/div/div/div[4]/div[7]/div[2]/div[3]/div[2]/div[14]/div/div[1]/div/div[4]/div/div[2]').click()\n",
    "            sleep(1)\n",
    "        except:\n",
    "            pass\n",
    "        try:\n",
    "            driver.find_element(by=By.XPATH, value='//*[@id=\"main\"]/div/div/div/div[4]/div[7]/div[2]/div[3]/div[2]/div[17]/div/div[1]/div/div[4]/div/div[2]').click()\n",
    "            sleep(1)\n",
    "        except:\n",
    "            pass\n",
    "        try:\n",
    "            driver.find_element(by=By.XPATH, value='//*[@id=\"main\"]/div/div/div/div[4]/div[7]/div[2]/div[3]/div[2]/div[20]/div/div[1]/div/div[4]/div/div[2]').click()\n",
    "            sleep(1)\n",
    "        except:\n",
    "            pass\n",
    "        try:\n",
    "            driver.find_element(by=By.XPATH, value='//*[@id=\"main\"]/div/div/div/div[4]/div[7]/div[2]/div[3]/div[2]/div[23]/div/div[1]/div/div[4]/div/div[2]').click()\n",
    "            sleep(1)\n",
    "        except:\n",
    "            pass\n",
    "        try:\n",
    "            driver.find_element(by=By.XPATH, value='//*[@id=\"main\"]/div/div/div/div[4]/div[7]/div[2]/div[3]/div[2]/div[26]/div/div[1]/div/div[4]/div/div[2]').click()\n",
    "            sleep(1)\n",
    "        except:\n",
    "            pass\n",
    "        try:\n",
    "            driver.find_element(by=By.XPATH, value='//*[@id=\"main\"]/div/div/div/div[4]/div[7]/div[2]/div[3]/div[2]/div[29]/div/div[1]/div/div[4]/div/div[2]').click()\n",
    "            sleep(1)\n",
    "        except:\n",
    "            pass\n",
    "        \n",
    "        #ii. Create a list with all the data from the 10 artwork boxes found on each page\n",
    "        \n",
    "        next_page = driver.find_element(by=By.XPATH, value='//*[@id=\"main\"]/div/div/div/div[4]/div[7]/div[2]/nav/a')\n",
    "\n",
    "        iterations = 0 #this is the iterations list that allows us to limit the pages to crowl to a given number...5\n",
    "        \n",
    "        while True:\n",
    "\n",
    "            if iterations ==5: #YOU CAN SET HOW MANY ITERATIONS YOU DESIRE\n",
    "                break\n",
    "            else:\n",
    "                iterations += 1 #Here we add the iteration count\n",
    "\n",
    "                art_box1 = driver.find_elements(By.XPATH, '//*[@id =\"main\"]/div/div/div/div[4]/div[7]/div[2]/div[3]/div[2]/div[2]')\n",
    "                art_box2 = driver.find_elements(By.XPATH, '//*[@id =\"main\"]/div/div/div/div[4]/div[7]/div[2]/div[3]/div[2]/div[5]')\n",
    "                art_box3 = driver.find_elements(By.XPATH, '//*[@id =\"main\"]/div/div/div/div[4]/div[7]/div[2]/div[3]/div[2]/div[8]')\n",
    "                art_box4 = driver.find_elements(By.XPATH, '//*[@id =\"main\"]/div/div/div/div[4]/div[7]/div[2]/div[3]/div[2]/div[11]')\n",
    "                art_box5 = driver.find_elements(By.XPATH, '//*[@id =\"main\"]/div/div/div/div[4]/div[7]/div[2]/div[3]/div[2]/div[14]')\n",
    "                art_box6 = driver.find_elements(By.XPATH, '//*[@id =\"main\"]/div/div/div/div[4]/div[7]/div[2]/div[3]/div[2]/div[17]')\n",
    "                art_box7 = driver.find_elements(By.XPATH, '//*[@id =\"main\"]/div/div/div/div[4]/div[7]/div[2]/div[3]/div[2]/div[20]')\n",
    "                art_box8 = driver.find_elements(By.XPATH, '//*[@id =\"main\"]/div/div/div/div[4]/div[7]/div[2]/div[3]/div[2]/div[23]')\n",
    "                art_box9 = driver.find_elements(By.XPATH, '//*[@id =\"main\"]/div/div/div/div[4]/div[7]/div[2]/div[3]/div[2]/div[26]')\n",
    "                art_box10 = driver.find_elements(By.XPATH, '//*[@id =\"main\"]/div/div/div/div[4]/div[7]/div[2]/div[3]/div[2]/div[29]')\n",
    "\n",
    "                art_boxes = [art_box1,art_box2,art_box3,art_box4,art_box5,art_box6,art_box7,art_box8,art_box9,art_box10]\n",
    "\n",
    "                arts_box_1toN = [] #This list will have n paintings out of 10 depending on the page\n",
    "\n",
    "                for box in art_boxes:\n",
    "                    if len(box)>0:\n",
    "                        info = box[0].text.splitlines()\n",
    "                        arts_box_1toN.append(info)\n",
    "                        \n",
    "                #iii. Loop over the n paintings of this i page to extract the info and put it in a list\n",
    "\n",
    "                for art_box in arts_box_1toN: #AKA: For a single painting (1 of the 10) in a given page\n",
    "\n",
    "                    art_box_fields = []\n",
    "\n",
    "                    name = url.split('artist/', 1)[1].split('/auction')[0]\n",
    "                    art_box_fields.append(name)\n",
    "                    \n",
    "                    if len(art_box)==19: # HERE WE GET THE ITEMS FOR THOSE WITH SALEPRICE IN ANOTHER CURRENCY\n",
    "                    \n",
    "                        try:\n",
    "                            title = art_box[0].split(\",\")[0].replace(',','')\n",
    "                        except:\n",
    "                            title = ''\n",
    "                        art_box_fields.append(title)\n",
    "                        try:\n",
    "                            year = art_box[0].split(\",\")[1].replace(',','')\n",
    "                        except:\n",
    "                            year = ''\n",
    "                        art_box_fields.append(year)\n",
    "                        try:\n",
    "                            medium = art_box[1]\n",
    "                        except:\n",
    "                            medium = ''\n",
    "                        art_box_fields.append(medium)\n",
    "                        try:\n",
    "                            sale_date = art_box[2]\n",
    "                        except:\n",
    "                            sale_date = ''\n",
    "                        art_box_fields.append(sale_date)\n",
    "                        try:\n",
    "                            auction_house = art_box[3]\n",
    "                        except:\n",
    "                            auction_house = ''\n",
    "                        art_box_fields.append(auction_house)\n",
    "                        try:\n",
    "                            realized_price_US = art_box[5]\n",
    "                        except:\n",
    "                            realized_price_US = ''\n",
    "                        art_box_fields.append(realized_price_US)\n",
    "                        try:\n",
    "                            premium_v_est = art_box[7]\n",
    "                        except:\n",
    "                            premium_v_est = ''\n",
    "                        art_box_fields.append(premium_v_est)\n",
    "                        try:\n",
    "                            size = art_box[11]\n",
    "                        except:\n",
    "                            size = ''\n",
    "                        art_box_fields.append(size)\n",
    "\n",
    "                    elif len(art_box)==18: # HERE WE GET THE ITEMS FOR THOSE WITH ONLY DOLLAR SALEPRICE\n",
    "                        \n",
    "                        try:\n",
    "                            title = art_box[0].split(\",\")[0].replace(',','')\n",
    "                        except:\n",
    "                            title = ''\n",
    "                        art_box_fields.append(title)\n",
    "                        try:\n",
    "                            year = art_box[0].split(\",\")[1].replace(',','')\n",
    "                        except:\n",
    "                            year = ''\n",
    "                        art_box_fields.append(year)\n",
    "                        try:\n",
    "                            medium = art_box[1]\n",
    "                        except:\n",
    "                            medium = ''\n",
    "                        art_box_fields.append(medium)\n",
    "                        try:\n",
    "                            sale_date = art_box[2]\n",
    "                        except:\n",
    "                            sale_date = ''\n",
    "                        art_box_fields.append(sale_date)\n",
    "                        try:\n",
    "                            auction_house = art_box[3]\n",
    "                        except:\n",
    "                            auction_house = ''\n",
    "                        art_box_fields.append(auction_house)\n",
    "                        try:\n",
    "                            realized_price_US = art_box[4]\n",
    "                        except:\n",
    "                            realized_price_US = ''\n",
    "                        art_box_fields.append(realized_price_US)\n",
    "                        try:\n",
    "                            premium_v_est = art_box[6]\n",
    "                        except:\n",
    "                            premium_v_est = ''\n",
    "                        art_box_fields.append(premium_v_est)\n",
    "                        try:\n",
    "                            size = art_box[10]\n",
    "                        except:\n",
    "                            size = ''\n",
    "                        art_box_fields.append(size)\n",
    "\n",
    "\n",
    "                    #add the list with the painting info to a list that will contain all the paintings\n",
    "                    artwork_df.append(art_box_fields)\n",
    "                    \n",
    "                next_page.click()\n",
    "                sleep(1)\n",
    "        \n",
    "    except:\n",
    "        #B] Artists without the signal section\n",
    "        \n",
    "        #i. Open the artwork boxes for the additional info\n",
    "        try:\n",
    "            driver.find_element(by=By.XPATH, value='//*[@id=\"main\"]/div/div/div/div[4]/div[6]/div[2]/div[3]/div[2]/div[2]/div/div[1]/div/div[4]/div/div[2]').click()\n",
    "            sleep(1)\n",
    "        except:\n",
    "            pass\n",
    "        try:\n",
    "            driver.find_element(by=By.XPATH, value='//*[@id=\"main\"]/div/div/div/div[4]/div[6]/div[2]/div[3]/div[2]/div[5]/div/div[1]/div/div[4]/div/div[2]').click()\n",
    "            sleep(1)\n",
    "        except:\n",
    "            pass\n",
    "        try:\n",
    "            driver.find_element(by=By.XPATH, value='//*[@id=\"main\"]/div/div/div/div[4]/div[6]/div[2]/div[3]/div[2]/div[8]/div/div[1]/div/div[4]/div/div[2]').click()\n",
    "            sleep(1)        \n",
    "        except:\n",
    "            pass\n",
    "        try:\n",
    "            driver.find_element(by=By.XPATH, value='//*[@id=\"main\"]/div/div/div/div[4]/div[6]/div[2]/div[3]/div[2]/div[11]/div/div[1]/div/div[4]/div/div[2]').click()\n",
    "            sleep(1)\n",
    "        except:\n",
    "            pass\n",
    "        try:\n",
    "            driver.find_element(by=By.XPATH, value='//*[@id=\"main\"]/div/div/div/div[4]/div[6]/div[2]/div[3]/div[2]/div[14]/div/div[1]/div/div[4]/div/div[2]').click()\n",
    "            sleep(1)\n",
    "        except:\n",
    "            pass\n",
    "        try:\n",
    "            driver.find_element(by=By.XPATH, value='//*[@id=\"main\"]/div/div/div/div[4]/div[6]/div[2]/div[3]/div[2]/div[17]/div/div[1]/div/div[4]/div/div[2]').click()\n",
    "            sleep(1)\n",
    "        except:\n",
    "            pass\n",
    "        try:\n",
    "            driver.find_element(by=By.XPATH, value='//*[@id=\"main\"]/div/div/div/div[4]/div[6]/div[2]/div[3]/div[2]/div[20]/div/div[1]/div/div[4]/div/div[2]').click()\n",
    "            sleep(1)\n",
    "        except:\n",
    "            pass\n",
    "\n",
    "        try:\n",
    "            driver.find_element(by=By.XPATH, value='//*[@id=\"main\"]/div/div/div/div[4]/div[6]/div[2]/div[3]/div[2]/div[23]/div/div[1]/div/div[4]/div/div[2]').click()\n",
    "            sleep(1)\n",
    "        except:\n",
    "            pass\n",
    "        try:\n",
    "            driver.find_element(by=By.XPATH, value='//*[@id=\"main\"]/div/div/div/div[4]/div[6]/div[2]/div[3]/div[2]/div[26]/div/div[1]/div/div[4]/div/div[2]').click()\n",
    "            sleep(1)\n",
    "        except:\n",
    "            pass\n",
    "        try:\n",
    "            driver.find_element(by=By.XPATH, value='//*[@id=\"main\"]/div/div/div/div[4]/div[6]/div[2]/div[3]/div[2]/div[29]/div/div[1]/div/div[4]/div/div[2]').click()\n",
    "            sleep(1)\n",
    "        except:\n",
    "            pass\n",
    "        \n",
    "        #ii. Create a list with all the data from the 10 artwork boxes found on each page\n",
    "        \n",
    "        iterations = 0 #this is the iterations list that allows us to limit the pages to crowl to a given number...5\n",
    "        \n",
    "        next_page = driver.find_element(by=By.XPATH, value='//*[@id=\"main\"]/div/div/div/div[4]/div[6]/div[2]/nav/a')\n",
    "\n",
    "        while True:\n",
    "\n",
    "            if iterations ==5: #YOU CAN SET HOW MANY ITERATIONS YOU DESIRE\n",
    "                break\n",
    "            else:\n",
    "                iterations += 1 #Here we add the iteration count\n",
    "\n",
    "                art_box1 = driver.find_elements(By.XPATH, '//*[@id=\"main\"]/div/div/div/div[4]/div[6]/div[2]/div[3]/div[2]/div[2]')\n",
    "                art_box2 = driver.find_elements(By.XPATH, '//*[@id=\"main\"]/div/div/div/div[4]/div[6]/div[2]/div[3]/div[2]/div[5]')\n",
    "                art_box3 = driver.find_elements(By.XPATH, '//*[@id=\"main\"]/div/div/div/div[4]/div[6]/div[2]/div[3]/div[2]/div[8]')\n",
    "                art_box4 = driver.find_elements(By.XPATH, '//*[@id=\"main\"]/div/div/div/div[4]/div[6]/div[2]/div[3]/div[2]/div[11]')\n",
    "                art_box5 = driver.find_elements(By.XPATH, '//*[@id=\"main\"]/div/div/div/div[4]/div[6]/div[2]/div[3]/div[2]/div[14]')\n",
    "                art_box6 = driver.find_elements(By.XPATH, '//*[@id=\"main\"]/div/div/div/div[4]/div[6]/div[2]/div[3]/div[2]/div[17]')\n",
    "                art_box7 = driver.find_elements(By.XPATH, '//*[@id=\"main\"]/div/div/div/div[4]/div[6]/div[2]/div[3]/div[2]/div[20]')\n",
    "                art_box8 = driver.find_elements(By.XPATH, '//*[@id=\"main\"]/div/div/div/div[4]/div[6]/div[2]/div[3]/div[2]/div[23]')\n",
    "                art_box9 = driver.find_elements(By.XPATH, '//*[@id=\"main\"]/div/div/div/div[4]/div[6]/div[2]/div[3]/div[2]/div[26]')\n",
    "                art_box10 = driver.find_elements(By.XPATH, '//*[@id=\"main\"]/div/div/div/div[4]/div[6]/div[2]/div[3]/div[2]/div[29]')\n",
    "\n",
    "                art_boxes = [art_box1,art_box2,art_box3,art_box4,art_box5,art_box6,art_box7,art_box8,art_box9,art_box10]\n",
    "\n",
    "                arts_box_1toN = []\n",
    "\n",
    "                for box in art_boxes: #This loop cleans the elements above in case there are less than 10 paintings\n",
    "                    if len(box)>0:\n",
    "                        info = box[0].text.splitlines()\n",
    "                        arts_box_1toN.append(info)\n",
    "                \n",
    "                #iii. Loop over the n paintings of this i page to extract the info and put it in a list\n",
    "                for art_box in arts_box_1toN: #AKA: For a single painting (1 of the 10) in a given page\n",
    "\n",
    "                    art_box_fields = []\n",
    "                    \n",
    "                    name = url.split('artist/', 1)[1].split('/auction')[0]\n",
    "                    art_box_fields.append(name)\n",
    "\n",
    "                    try:\n",
    "                        title = art_box[0].split(\",\")[0].replace(',','')\n",
    "                    except:\n",
    "                        title = ''\n",
    "                    art_box_fields.append(title)\n",
    "                    try:\n",
    "                        year = art_box[0].split(\",\")[1].replace(',','')\n",
    "                    except:\n",
    "                        year = ''\n",
    "                    art_box_fields.append(year)\n",
    "                    try:\n",
    "                        medium = art_box[1]\n",
    "                    except:\n",
    "                        medium = ''\n",
    "                    art_box_fields.append(medium)\n",
    "                    try:\n",
    "                        sale_date = art_box[2]\n",
    "                    except:\n",
    "                        sale_date = ''\n",
    "                    art_box_fields.append(sale_date)\n",
    "                    try:\n",
    "                        auction_house = art_box[3]\n",
    "                    except:\n",
    "                        auction_house = ''\n",
    "                    art_box_fields.append(auction_house)\n",
    "                    try:\n",
    "                        realized_price_US = art_box[5]\n",
    "                    except:\n",
    "                        realized_price_US = ''\n",
    "                    art_box_fields.append(realized_price_US)\n",
    "                    try:\n",
    "                        premium_v_est = art_box[7]\n",
    "                    except:\n",
    "                        premium_v_est = ''\n",
    "                    art_box_fields.append(premium_v_est)\n",
    "                    try:\n",
    "                        size = art_box[11]\n",
    "                    except:\n",
    "                        size = ''\n",
    "                    art_box_fields.append(size)\n",
    "\n",
    "                #add the list with the painting info to a list that will contain all the paintings\n",
    "                    artwork_df.append(art_box_fields)\n",
    "                \n",
    "                next_page.click()\n",
    "                sleep(1)\n",
    "        \n",
    "                \n"
   ]
  },
  {
   "cell_type": "markdown",
   "id": "e8eff6d2",
   "metadata": {},
   "source": [
    "<h3>3. Check the Results</h3>"
   ]
  },
  {
   "cell_type": "markdown",
   "id": "888df0d7",
   "metadata": {},
   "source": [
    "Let's now check how many observations (paintings) we were able to retrieve:"
   ]
  },
  {
   "cell_type": "code",
   "execution_count": 35,
   "id": "7479e018",
   "metadata": {},
   "outputs": [
    {
     "name": "stdout",
     "output_type": "stream",
     "text": [
      "11350\n"
     ]
    }
   ],
   "source": [
    "print(len(artwork_df))"
   ]
  },
  {
   "cell_type": "markdown",
   "id": "4144435b",
   "metadata": {},
   "source": [
    "We were supposed to retrieve: 10 paintings x 5 pages per artist x 244 artists = 12.200. However, we expected a loss of information as the code occasionally stopped due to Artsy's *internal server error*. Also, we consider ourselves happy with the result as we have more than enough to test a ML algorithm. We can finally close the Chromedriver session :)"
   ]
  },
  {
   "cell_type": "code",
   "execution_count": 40,
   "id": "db34d526",
   "metadata": {},
   "outputs": [],
   "source": [
    "driver.quit()"
   ]
  },
  {
   "cell_type": "markdown",
   "id": "4eb82fca",
   "metadata": {},
   "source": [
    "Let's have a preview of what we were able to obtain. Instead of displaying a list of lists, we firstly convert the output into a pandas DF, so that it is easier to see the different fields."
   ]
  },
  {
   "cell_type": "code",
   "execution_count": 36,
   "id": "ee1c7eba",
   "metadata": {},
   "outputs": [],
   "source": [
    "paintings_df = pd.DataFrame(artwork_df)"
   ]
  },
  {
   "cell_type": "code",
   "execution_count": 37,
   "id": "0f5fd79a",
   "metadata": {
    "scrolled": true
   },
   "outputs": [
    {
     "data": {
      "text/html": [
       "<div>\n",
       "<style scoped>\n",
       "    .dataframe tbody tr th:only-of-type {\n",
       "        vertical-align: middle;\n",
       "    }\n",
       "\n",
       "    .dataframe tbody tr th {\n",
       "        vertical-align: top;\n",
       "    }\n",
       "\n",
       "    .dataframe thead th {\n",
       "        text-align: right;\n",
       "    }\n",
       "</style>\n",
       "<table border=\"1\" class=\"dataframe\">\n",
       "  <thead>\n",
       "    <tr style=\"text-align: right;\">\n",
       "      <th></th>\n",
       "      <th>0</th>\n",
       "      <th>1</th>\n",
       "      <th>2</th>\n",
       "      <th>3</th>\n",
       "      <th>4</th>\n",
       "      <th>5</th>\n",
       "      <th>6</th>\n",
       "      <th>7</th>\n",
       "      <th>8</th>\n",
       "    </tr>\n",
       "  </thead>\n",
       "  <tbody>\n",
       "    <tr>\n",
       "      <th>0</th>\n",
       "      <td>correggio</td>\n",
       "      <td>Madonna and Child</td>\n",
       "      <td></td>\n",
       "      <td>Oil On Canvas</td>\n",
       "      <td>Jun 13, 2018</td>\n",
       "      <td>Bonhams</td>\n",
       "      <td>US$334</td>\n",
       "      <td>58% est</td>\n",
       "      <td>26.0 x 31.0 cm</td>\n",
       "    </tr>\n",
       "    <tr>\n",
       "      <th>1</th>\n",
       "      <td>correggio</td>\n",
       "      <td>Jeune femme nue dans un paysage</td>\n",
       "      <td></td>\n",
       "      <td>Oil On Canvas</td>\n",
       "      <td>Jun 6, 2017</td>\n",
       "      <td>Stockholms Auktionsverk</td>\n",
       "      <td>US$7,502</td>\n",
       "      <td>28% est</td>\n",
       "      <td>54.0 x 63.0 cm</td>\n",
       "    </tr>\n",
       "    <tr>\n",
       "      <th>2</th>\n",
       "      <td>correggio</td>\n",
       "      <td>Madone St Jérome</td>\n",
       "      <td></td>\n",
       "      <td>Oil On Walnut</td>\n",
       "      <td>Oct 23, 2016</td>\n",
       "      <td>MonsAntic.com</td>\n",
       "      <td>US$870</td>\n",
       "      <td>20% est</td>\n",
       "      <td>40.0 x 57.0 cm</td>\n",
       "    </tr>\n",
       "    <tr>\n",
       "      <th>3</th>\n",
       "      <td>correggio</td>\n",
       "      <td>Jupiter and Io</td>\n",
       "      <td></td>\n",
       "      <td>Oil On Canvas</td>\n",
       "      <td>Dec 7, 2015</td>\n",
       "      <td>Bernaerts</td>\n",
       "      <td>US$4,333</td>\n",
       "      <td>27% est</td>\n",
       "      <td>40.01 x 67.01 in</td>\n",
       "    </tr>\n",
       "    <tr>\n",
       "      <th>4</th>\n",
       "      <td>correggio</td>\n",
       "      <td>The Mystic Marriage of St. Catherine by Abraha...</td>\n",
       "      <td></td>\n",
       "      <td>Painted Porcelain Plaque</td>\n",
       "      <td>Jun 10, 2013</td>\n",
       "      <td>Bonhams</td>\n",
       "      <td>Realized price</td>\n",
       "      <td>Reveal less</td>\n",
       "      <td>Estimate</td>\n",
       "    </tr>\n",
       "  </tbody>\n",
       "</table>\n",
       "</div>"
      ],
      "text/plain": [
       "           0                                                  1 2  \\\n",
       "0  correggio                                  Madonna and Child     \n",
       "1  correggio                   Jeune femme nue dans un paysage      \n",
       "2  correggio                                   Madone St Jérome     \n",
       "3  correggio                                     Jupiter and Io     \n",
       "4  correggio  The Mystic Marriage of St. Catherine by Abraha...     \n",
       "\n",
       "                          3             4                        5  \\\n",
       "0             Oil On Canvas  Jun 13, 2018                  Bonhams   \n",
       "1             Oil On Canvas   Jun 6, 2017  Stockholms Auktionsverk   \n",
       "2             Oil On Walnut  Oct 23, 2016            MonsAntic.com   \n",
       "3             Oil On Canvas   Dec 7, 2015                Bernaerts   \n",
       "4  Painted Porcelain Plaque  Jun 10, 2013                  Bonhams   \n",
       "\n",
       "                6            7                 8  \n",
       "0          US$334      58% est    26.0 x 31.0 cm  \n",
       "1        US$7,502      28% est    54.0 x 63.0 cm  \n",
       "2          US$870      20% est    40.0 x 57.0 cm  \n",
       "3        US$4,333      27% est  40.01 x 67.01 in  \n",
       "4  Realized price  Reveal less          Estimate  "
      ]
     },
     "execution_count": 37,
     "metadata": {},
     "output_type": "execute_result"
    }
   ],
   "source": [
    "paintings_df.head()"
   ]
  },
  {
   "cell_type": "markdown",
   "id": "41df432c",
   "metadata": {},
   "source": [
    "It appears that **the scraper worked**! We now move on another notebook to clean the data, making sure that the data is accurate and that everything is in the right field."
   ]
  },
  {
   "cell_type": "markdown",
   "id": "7d8711b2",
   "metadata": {},
   "source": [
    "_____________"
   ]
  },
  {
   "cell_type": "markdown",
   "id": "7c4d4d81",
   "metadata": {},
   "source": [
    "________"
   ]
  }
 ],
 "metadata": {
  "kernelspec": {
   "display_name": "Python 3 (ipykernel)",
   "language": "python",
   "name": "python3"
  },
  "language_info": {
   "codemirror_mode": {
    "name": "ipython",
    "version": 3
   },
   "file_extension": ".py",
   "mimetype": "text/x-python",
   "name": "python",
   "nbconvert_exporter": "python",
   "pygments_lexer": "ipython3",
   "version": "3.9.7"
  }
 },
 "nbformat": 4,
 "nbformat_minor": 5
}
